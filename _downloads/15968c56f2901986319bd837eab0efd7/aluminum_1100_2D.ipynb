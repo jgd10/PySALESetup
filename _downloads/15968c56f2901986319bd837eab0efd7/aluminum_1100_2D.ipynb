{
  "cells": [
    {
      "cell_type": "markdown",
      "metadata": {},
      "source": [
        "\n# Aluminum 1100 2D\n\nThis example is based on the iSALE example Aluminum 1100 2D and uses\nthe same basic geometry, showing how you can use it for cylindrically\nsymmetric simulations.\n"
      ]
    },
    {
      "cell_type": "code",
      "execution_count": null,
      "metadata": {
        "collapsed": false
      },
      "outputs": [],
      "source": [
        "import PySALESetup as pss\nimport matplotlib.pyplot as plt\n\ncell_size = 1.5875e-4\nprojectile = pss.PySALEObject.generate_ellipse([0., 169.*cell_size],\n                                           20.*cell_size,\n                                           20.*cell_size,\n                                           0.)\ntarget = pss.PySALEObject(([(0., 0.),\n                        (200*cell_size, 0),\n                        (200*cell_size, 149*cell_size),\n                        (0., 149.*cell_size)]))\n\nprojectile.set_material(1)\ntarget.set_material(2)\n\nprojectile.set_velocity(0., -7e3)\n\nfig, ax = projectile.plot()\ntarget.plot(ax=ax)\nax.set_aspect(1)\nplt.show()\n\nmesh = pss.PySALEMesh(200, 240, cell_size)\nmesh.project_polygons_onto_mesh([projectile, target])\nmesh.plot_materials()\nmesh.plot_velocities()\nplt.show()"
      ]
    }
  ],
  "metadata": {
    "kernelspec": {
      "display_name": "Python 3",
      "language": "python",
      "name": "python3"
    },
    "language_info": {
      "codemirror_mode": {
        "name": "ipython",
        "version": 3
      },
      "file_extension": ".py",
      "mimetype": "text/x-python",
      "name": "python",
      "nbconvert_exporter": "python",
      "pygments_lexer": "ipython3",
      "version": "3.12.3"
    }
  },
  "nbformat": 4,
  "nbformat_minor": 0
}