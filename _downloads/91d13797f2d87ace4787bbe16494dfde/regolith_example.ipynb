{
  "cells": [
    {
      "cell_type": "markdown",
      "metadata": {},
      "source": [
        "\n# Regolith Sample Demo\n\nLunar Regolith example simulation taken from JGD's 2018 Thesis.\n\nCreate two impactors with non-standard grain shapes, orientations, and sizes.\n"
      ]
    },
    {
      "cell_type": "code",
      "execution_count": null,
      "metadata": {
        "collapsed": false
      },
      "outputs": [],
      "source": [
        "import PySALESetup as pss\nimport matplotlib.pyplot as plt\n\n\nregolith_top = pss.PySALEObject([(0, 0.003), (0.00125, 0.003),\n                                 (0.00125, 0.006), (0, 0.006)])\nregolith_bot = pss.PySALEObject([(0, 0), (0.00125, 0),\n                                 (0.00125, 0.003), (0, 0.003)])\n\nregolith_top.set_material(1)\nregolith_bot.set_material(1)\n\ntop_domain = pss.PySALEDomain(regolith_top)\nbot_domain = pss.PySALEDomain(regolith_bot)"
      ]
    },
    {
      "cell_type": "markdown",
      "metadata": {},
      "source": [
        "Fill our two domains with grains, but let's get a random geometry\nfrom the grain library to use.\n\n\n"
      ]
    },
    {
      "cell_type": "code",
      "execution_count": null,
      "metadata": {
        "collapsed": false
      },
      "outputs": [],
      "source": [
        "grain_library = pss.GrainLibrary()\ngrain_library.load_builtin_library()\ngrain = grain_library.random_grain()"
      ]
    },
    {
      "cell_type": "markdown",
      "metadata": {},
      "source": [
        "It's even possible to set the distribution from which the grains are taken\nensuring there is the right variation of grains available.\n\n\n"
      ]
    },
    {
      "cell_type": "code",
      "execution_count": null,
      "metadata": {
        "collapsed": false
      },
      "outputs": [],
      "source": [
        "for domain in [top_domain, bot_domain]:\n    domain.fill_with_random_grains_to_threshold(\n        grain,\n        50.,\n        rotation_distribution=pss.PySALEUniformDistribution((0.,\n                                                             360.)),\n        size_distribution=pss.PySALENormalDistribution(mu=5e-5,\n                                                       sigma=1e-5)\n    )\n    domain.optimise_materials([2, 3, 4, 5, 6, 7, 8, 9])\n\n\nregolith_top.set_velocity(0, -1500.)\nregolith_bot.set_velocity(0, +1500.)"
      ]
    },
    {
      "cell_type": "markdown",
      "metadata": {},
      "source": [
        "Finally we can create the whole mesh and populate it\nThe commands for this are simple but execution can take some time!\n\n\n"
      ]
    },
    {
      "cell_type": "code",
      "execution_count": null,
      "metadata": {
        "collapsed": false
      },
      "outputs": [],
      "source": [
        "mesh = pss.PySALEMesh.from_dimensions((0.00125, 0.006),\n                                      5.e-6)\nprint(mesh)\nmesh.project_polygons_onto_mesh([regolith_top, regolith_bot])\nf, a = mesh.plot_materials()\n\nplt.show()"
      ]
    },
    {
      "cell_type": "markdown",
      "metadata": {},
      "source": [
        "Let's also plot the velocities for completion's sake.\n\n\n"
      ]
    },
    {
      "cell_type": "code",
      "execution_count": null,
      "metadata": {
        "collapsed": false
      },
      "outputs": [],
      "source": [
        "f1, f2, a1, a2 = mesh.plot_velocities()\n\nplt.show()"
      ]
    }
  ],
  "metadata": {
    "kernelspec": {
      "display_name": "Python 3",
      "language": "python",
      "name": "python3"
    },
    "language_info": {
      "codemirror_mode": {
        "name": "ipython",
        "version": 3
      },
      "file_extension": ".py",
      "mimetype": "text/x-python",
      "name": "python",
      "nbconvert_exporter": "python",
      "pygments_lexer": "ipython3",
      "version": "3.12.3"
    }
  },
  "nbformat": 4,
  "nbformat_minor": 0
}