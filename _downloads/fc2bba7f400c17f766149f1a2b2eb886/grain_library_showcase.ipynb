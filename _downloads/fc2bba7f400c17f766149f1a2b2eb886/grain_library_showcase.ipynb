{
  "cells": [
    {
      "cell_type": "markdown",
      "metadata": {},
      "source": [
        "\n# Grain Library Demo\n\nDemos selection of Grain geometries available within the library.\n"
      ]
    },
    {
      "cell_type": "code",
      "execution_count": null,
      "metadata": {
        "collapsed": false
      },
      "outputs": [],
      "source": [
        "from PySALESetup import GrainLibrary\nimport matplotlib.pyplot as plt\n\n\ngrain_library = GrainLibrary()\ngrain_library.load_builtin_library()\nfig = plt.figure()\n\nfor i in range(1, 25+1):\n    ax = fig.add_subplot(5, 5, i)\n    grain = grain_library.random_grain()\n    grain.plot(ax)\n\nfig.tight_layout()\nplt.show()"
      ]
    }
  ],
  "metadata": {
    "kernelspec": {
      "display_name": "Python 3",
      "language": "python",
      "name": "python3"
    },
    "language_info": {
      "codemirror_mode": {
        "name": "ipython",
        "version": 3
      },
      "file_extension": ".py",
      "mimetype": "text/x-python",
      "name": "python",
      "nbconvert_exporter": "python",
      "pygments_lexer": "ipython3",
      "version": "3.12.3"
    }
  },
  "nbformat": 4,
  "nbformat_minor": 0
}