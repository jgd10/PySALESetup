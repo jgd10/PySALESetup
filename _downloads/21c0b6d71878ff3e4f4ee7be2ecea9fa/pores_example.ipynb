{
  "cells": [
    {
      "cell_type": "markdown",
      "metadata": {},
      "source": [
        "\n# Pore Creation Demo\n\nPySaleSetup can be used to create meshes containing material with pores\npopulating them. This is a short demo to show how.\n"
      ]
    },
    {
      "cell_type": "code",
      "execution_count": null,
      "metadata": {
        "collapsed": false
      },
      "outputs": [],
      "source": [
        "from PySALESetup import PySALEObject, PySALEDomain, PySALEMesh\nimport matplotlib.pyplot as plt\nmain = PySALEObject.generate_ellipse([5., 5.], 5., 5., 0.)\nmain.set_material(1)\ndomain = PySALEDomain(main)\ncircle = PySALEObject.generate_ellipse([0., 0.], .5, .5, 0.)\ncircle.set_as_void()\ndomain.fill_with_random_grains_to_threshold(circle, 40)\nmesh = PySALEMesh(100, 100, cell_size=.1)\nfor child in main.children:\n    child.set_as_void()\nmesh.project_polygons_onto_mesh([main])\nmesh.plot_materials()\nmain.plot()\nplt.show()"
      ]
    }
  ],
  "metadata": {
    "kernelspec": {
      "display_name": "Python 3",
      "language": "python",
      "name": "python3"
    },
    "language_info": {
      "codemirror_mode": {
        "name": "ipython",
        "version": 3
      },
      "file_extension": ".py",
      "mimetype": "text/x-python",
      "name": "python",
      "nbconvert_exporter": "python",
      "pygments_lexer": "ipython3",
      "version": "3.12.3"
    }
  },
  "nbformat": 4,
  "nbformat_minor": 0
}