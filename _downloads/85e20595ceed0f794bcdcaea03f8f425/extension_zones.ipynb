{
  "cells": [
    {
      "cell_type": "markdown",
      "metadata": {},
      "source": [
        "\n# Extension Zone Demo\n\nExtension zones are a bit fiddly in PySALESetup. They need\nto be created before the mesh object and fed in as arguments.\n\nThey must always be accompanied by an ExtensionZoneFactor as well\nwhich dictates how much they alter the cell size by.\n"
      ]
    },
    {
      "cell_type": "code",
      "execution_count": null,
      "metadata": {
        "collapsed": false
      },
      "outputs": [],
      "source": [
        "from PySALESetup import PySALEObject, PySALEMesh\nfrom PySALESetup.mesh import ExtensionZone, Region, \\\n    ExtensionZoneFactor\nimport matplotlib.pyplot as plt\n\n# Construct 4 extension zones: one for each region\nextension_zones = [ExtensionZone(15, region, 1.,\n                                 ExtensionZoneFactor(1.05, 20))\n                   for region in [Region.NORTH, Region.SOUTH,\n                                  Region.EAST, Region.WEST]]\n\n# Build a mesh using the extension zones\nm = PySALEMesh(100, 100, extension_zones=extension_zones,\n               cell_size=1.)\n\nobject1 = PySALEObject.generate_ellipse([56, 56],\n                                        50., 50., material=1,\n                                        rotation=0)\nobject2 = PySALEObject.generate_ellipse([159, 159],\n                                        50., 50., material=2,\n                                        rotation=0)\nobject3 = PySALEObject.generate_ellipse([107.2, 107.2],\n                                        50., 50., material=3,\n                                        rotation=0)\n\n\nm.project_polygons_onto_mesh([object1, object2, object3])\n\nf, ax = m.plot_materials()\n# NB x_range and y_range are cell centres, not cell edges!\nfor item in m.x_range:\n    ax.axvline(x=item, lw=0.2, color='m')\nfor item in m.y_range:\n    ax.axhline(y=item, lw=0.2, color='m')\n\nplt.show()"
      ]
    }
  ],
  "metadata": {
    "kernelspec": {
      "display_name": "Python 3",
      "language": "python",
      "name": "python3"
    },
    "language_info": {
      "codemirror_mode": {
        "name": "ipython",
        "version": 3
      },
      "file_extension": ".py",
      "mimetype": "text/x-python",
      "name": "python",
      "nbconvert_exporter": "python",
      "pygments_lexer": "ipython3",
      "version": "3.12.3"
    }
  },
  "nbformat": 4,
  "nbformat_minor": 0
}