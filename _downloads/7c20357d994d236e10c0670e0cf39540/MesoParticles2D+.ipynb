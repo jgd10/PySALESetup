{
  "cells": [
    {
      "cell_type": "markdown",
      "metadata": {},
      "source": [
        "\n# MesoParticles2D+\n\nThis example is based on the iSALE example MesoParticles2D and uses\nthe same basic geometries. However, in this script we demonstrate the\nversatility of PySALESetup to affect things like the resolution with\nease\n"
      ]
    },
    {
      "cell_type": "code",
      "execution_count": null,
      "metadata": {
        "collapsed": false
      },
      "outputs": [],
      "source": [
        "import pathlib\n\nfrom PySALESetup import (PySALEObject, PySALEMesh, PySALEDomain,\n                         AsteroidInput, AdditionalInput, TimeStep)\nimport matplotlib.pyplot as plt\n\n# Create The geometries for the simulation\nimpactor = PySALEObject([(0., 0.003),\n                         (0.001, 0.003),\n                         (0.001, 0.005),\n                         (0, 0.005)])\nimpactor.set_material(1)\nimpactor.set_velocity(0, -500.)\n\nhost = PySALEObject([(0, 0.001),\n                     (0.001, 0.001),\n                     (0.001, 0.003),\n                     (0, 0.003)])\nhost.set_material(0)\n\nback_plate = PySALEObject([(0, 0.0002),\n                           (0.001, 0.0002),\n                           (0.001, 0.001),\n                           (0, 0.001)])\nback_plate.set_material(1)"
      ]
    },
    {
      "cell_type": "markdown",
      "metadata": {},
      "source": [
        "Create a domain object which will perform the particle insertions\n\n\n"
      ]
    },
    {
      "cell_type": "code",
      "execution_count": null,
      "metadata": {
        "collapsed": false
      },
      "outputs": [],
      "source": [
        "domain = PySALEDomain(host)"
      ]
    },
    {
      "cell_type": "markdown",
      "metadata": {},
      "source": [
        "Create a particle to be used for insertion\nIts centroid does not matter here as we'll just move it around\nanyway, so use [0, 0]\n\n\n"
      ]
    },
    {
      "cell_type": "code",
      "execution_count": null,
      "metadata": {
        "collapsed": false
      },
      "outputs": [],
      "source": [
        "particle = PySALEObject.generate_ellipse([0, 0], 50e-6, 50e-6, 0, 1)\ndomain.fill_with_random_grains_to_threshold(particle, 40)"
      ]
    },
    {
      "cell_type": "markdown",
      "metadata": {},
      "source": [
        "Optimise particle materials so that none touch of the same material\n\n\n"
      ]
    },
    {
      "cell_type": "code",
      "execution_count": null,
      "metadata": {
        "collapsed": false
      },
      "outputs": [],
      "source": [
        "domain.optimise_materials([2, 3, 4, 5, 6, 7, 8, 9])"
      ]
    },
    {
      "cell_type": "markdown",
      "metadata": {},
      "source": [
        "plot the geometries we've created\n\n\n"
      ]
    },
    {
      "cell_type": "code",
      "execution_count": null,
      "metadata": {
        "collapsed": false
      },
      "outputs": [],
      "source": [
        "fig, ax = host.plot()\nimpactor.plot(ax)\nback_plate.plot(ax)\nplt.show()"
      ]
    },
    {
      "cell_type": "markdown",
      "metadata": {},
      "source": [
        "Create the mesh onto which we'll apply these geometries\n\n\n"
      ]
    },
    {
      "cell_type": "code",
      "execution_count": null,
      "metadata": {
        "collapsed": false
      },
      "outputs": [],
      "source": [
        "mesh_1 = PySALEMesh(50, 250, cell_size=20.e-6)"
      ]
    },
    {
      "cell_type": "markdown",
      "metadata": {},
      "source": [
        "Apply/project the geometries onto our mesh\n\n\n"
      ]
    },
    {
      "cell_type": "code",
      "execution_count": null,
      "metadata": {
        "collapsed": false
      },
      "outputs": [],
      "source": [
        "mesh_1.project_polygons_onto_mesh([host, impactor, back_plate])"
      ]
    },
    {
      "cell_type": "markdown",
      "metadata": {},
      "source": [
        "View the result!\n\n\n"
      ]
    },
    {
      "cell_type": "code",
      "execution_count": null,
      "metadata": {
        "collapsed": false
      },
      "outputs": [],
      "source": [
        "mesh_1.plot_materials()\nplt.show()"
      ]
    },
    {
      "cell_type": "markdown",
      "metadata": {},
      "source": [
        "we can also save the meso_m.iSALE file as well if needed\nWe won't compress it here (although that is recommended) so you can\ninspect the result and see what it looks like.\n\n\n"
      ]
    },
    {
      "cell_type": "code",
      "execution_count": null,
      "metadata": {
        "collapsed": false
      },
      "outputs": [],
      "source": [
        "mesh_1.save(pathlib.Path('./meso_m.iSALE.gz'), compress=True)"
      ]
    },
    {
      "cell_type": "markdown",
      "metadata": {},
      "source": [
        "To make life a bit easier this package will also assist in creating the\ncorrect iSALE input files required of the simulation. You may still have to\nmerge/edit them yourself until they work, but the bones of the files can\nbe created like the example below.\n\n\n"
      ]
    },
    {
      "cell_type": "code",
      "execution_count": null,
      "metadata": {
        "collapsed": false
      },
      "outputs": [],
      "source": [
        "ast = AsteroidInput('MesoParticles2D+',\n                    TimeStep(4e-10, 1e-8, 4e-6, 1e-7),\n                    mesh_1)\nast.write_to(pathlib.Path('./asteroid.inp'))\nadd = AdditionalInput(mesh_1,\n                      {i+1: f'matter{i+1}' for i in range(9)},\n                      host_object_number=1)\nadd.write_to(pathlib.Path('./additional.inp'))"
      ]
    },
    {
      "cell_type": "markdown",
      "metadata": {},
      "source": [
        "The geometries are mesh-independent so we can easily change\nthe resolution if we wish\n\n\n"
      ]
    },
    {
      "cell_type": "code",
      "execution_count": null,
      "metadata": {
        "collapsed": false
      },
      "outputs": [],
      "source": [
        "mesh_2 = PySALEMesh(50, 250, cell_size=20.e-6)\nmesh_2.project_polygons_onto_mesh([host, impactor, back_plate])\nmesh_2.plot_materials()\nplt.show()\n\n\n# or... (uncomment to see the result!)\n# mesh_3 = PySALEMesh(200, 1000, cell_size=5.e-6)\n# mesh_3.project_polygons_onto_mesh([host, impactor, back_plate])\n# mesh_3.plot_materials()\n# plt.show()"
      ]
    },
    {
      "cell_type": "markdown",
      "metadata": {},
      "source": [
        "Finally, if we wanted to have particles that appear to extend\nbeyond the mesh, we can do that too! We just need to make the\nhost object slightly wider (here we do it by one radii on each\nside).\n\n\n"
      ]
    },
    {
      "cell_type": "code",
      "execution_count": null,
      "metadata": {
        "collapsed": false
      },
      "outputs": [],
      "source": [
        "host = PySALEObject([(0-50e-6, 0.001),\n                     (0.001+50e-6, 0.001),\n                     (0.001+50e-6, 0.003),\n                     (0-50e-6, 0.003)])\nhost.set_material(0)\ndomain = PySALEDomain(host)\nparticle = PySALEObject.generate_ellipse([0, 0], 50e-6, 50e-6, 0, 1)\ndomain.fill_with_random_grains_to_threshold(particle, 40)\ndomain.optimise_materials([2, 3, 4, 5, 6, 7, 8, 9])\n\n_, ax = host.plot()\nimpactor.plot(ax)\nback_plate.plot(ax)\nplt.show()\n\nmesh_4 = PySALEMesh(100, 500, cell_size=10.e-6)\nmesh_4.project_polygons_onto_mesh([host, impactor, back_plate])\nmesh_4.plot_materials()\nplt.show()"
      ]
    }
  ],
  "metadata": {
    "kernelspec": {
      "display_name": "Python 3",
      "language": "python",
      "name": "python3"
    },
    "language_info": {
      "codemirror_mode": {
        "name": "ipython",
        "version": 3
      },
      "file_extension": ".py",
      "mimetype": "text/x-python",
      "name": "python",
      "nbconvert_exporter": "python",
      "pygments_lexer": "ipython3",
      "version": "3.12.3"
    }
  },
  "nbformat": 4,
  "nbformat_minor": 0
}