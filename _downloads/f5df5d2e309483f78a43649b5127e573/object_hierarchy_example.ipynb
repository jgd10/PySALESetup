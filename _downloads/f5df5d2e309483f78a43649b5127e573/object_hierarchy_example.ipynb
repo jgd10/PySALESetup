{
  "cells": [
    {
      "cell_type": "markdown",
      "metadata": {},
      "source": [
        "\n# Object Hierarchy Demo\n\nThe geometry of the simulation is built like a tree graph. There is a root (\nor roots) at the top, a host object, and then child objects can be added to\nthe host, and those children can have children and so on. The top level is\nconsidered to be at depth = 0. The grandchild of a root object would be at\ndepth = 2.\n\nObjects at the lowest depth are placed into the mesh first.\nObjects are inserted in the order their parents were added when they are at\nthe same depth. Then they are inserted in the order *they* were added when\nthese objects have the same parent at the same depth.\n"
      ]
    },
    {
      "cell_type": "code",
      "execution_count": null,
      "metadata": {
        "collapsed": false
      },
      "outputs": [],
      "source": [
        "import PySALESetup as pss\nimport matplotlib.pyplot as plt"
      ]
    },
    {
      "cell_type": "markdown",
      "metadata": {},
      "source": [
        "In this example we create two identical circles and give them an offset to\ndemonstrate how this works.\n\n\n"
      ]
    },
    {
      "cell_type": "code",
      "execution_count": null,
      "metadata": {
        "collapsed": false
      },
      "outputs": [],
      "source": [
        "top_circle = pss.PySALEObject.generate_ellipse((0,0), 100, 100, rotation=0.,\n                                               material=1)\ntop_circle.add_child(pss.PySALEObject.generate_ellipse((0,0), 70, 70,\n                                                       rotation=0.,\n                                                       material=2))\ntop_circle.add_child(pss.PySALEObject.generate_ellipse((50,50), 70, 70,\n                                                       rotation=0.,\n                                                       material=3))\n\nfor child in top_circle.children:\n    child.add_child(\n        pss.PySALEObject.generate_ellipse(child.polygon.centroid,\n                                          major=10,\n                                          minor=10,\n                                          rotation=0.,\n                                          material=4)\n    )\n\n\nfor child in top_circle.children:\n    for child2 in child.children:\n        child2.add_child(pss.PySALEObject.generate_ellipse(\n            child2.polygon.centroid, major=5, minor=5, rotation=0, material=5))"
      ]
    },
    {
      "cell_type": "markdown",
      "metadata": {},
      "source": [
        "Finally lets plot this situation.\n\n\n"
      ]
    },
    {
      "cell_type": "code",
      "execution_count": null,
      "metadata": {
        "collapsed": false
      },
      "outputs": [],
      "source": [
        "fig, ax = top_circle.plot()\nplt.show()"
      ]
    },
    {
      "cell_type": "markdown",
      "metadata": {},
      "source": [
        "Create our mesh and fill in the objects. See how the mesh is populated.\n\n\n"
      ]
    },
    {
      "cell_type": "code",
      "execution_count": null,
      "metadata": {
        "collapsed": false
      },
      "outputs": [],
      "source": [
        "mesh = pss.PySALEMesh.from_dimensions((200, 200),\n                                      cell_size=1.,\n                                      origin=(-100., -100.))\nmesh.project_polygons_onto_mesh([top_circle])\nfig2, ax2 = mesh.plot_materials()\n\nplt.show()"
      ]
    }
  ],
  "metadata": {
    "kernelspec": {
      "display_name": "Python 3",
      "language": "python",
      "name": "python3"
    },
    "language_info": {
      "codemirror_mode": {
        "name": "ipython",
        "version": 3
      },
      "file_extension": ".py",
      "mimetype": "text/x-python",
      "name": "python",
      "nbconvert_exporter": "python",
      "pygments_lexer": "ipython3",
      "version": "3.12.3"
    }
  },
  "nbformat": 4,
  "nbformat_minor": 0
}